{
 "cells": [
  {
   "cell_type": "markdown",
   "metadata": {},
   "source": [
    "# Speech to Text\n",
    "## Introduction\n",
    "The Audio API provides two speech to text endpoints, transcriptions and translations, based on OpenAI's state-of-the-art open source large-v2 Whisper model. They can be used to:\n",
    "\n",
    "* Transcribe audio into whatever language the audio is in.\n",
    "* Translate and transcribe the audio into english.\n",
    "\n",
    "File uploads are currently limited to 25 MB and the following input file types are supported: `mp3`, `mp4`, `mpeg`, `mpga`, `m4a`, `wav`, and `webm`.\n",
    "\n",
    "## Transcriptions\n",
    "The transcriptions API takes as input the audio file you want to transcribe and the desired output file format for the transcription of the audio. We currently support multiple input and output file formats.\n",
    "\n",
    "By default, the response type will be json with the raw text included.\n",
    "\n",
    "```json\n",
    "{\n",
    "  \"text\": \"Imagine the wildest idea that you've ever had, and you're curious about how it might scale to something that's a 100, a 1,000 times bigger.\"\n",
    "}\n",
    "```"
   ]
  },
  {
   "cell_type": "code",
   "execution_count": 1,
   "metadata": {},
   "outputs": [
    {
     "name": "stdout",
     "output_type": "stream",
     "text": [
      "Sanat tarihiyle ilgilenen veya ilgilenmeyen herkesin kulağına mutlaka Rönesans kelimesi çalınmış olmalı. Duyar duymaz aklımıza bilim, sanat ve yenilikler gelir. Ancak bu tanımlama aslında dini bir terim olarak ortaya çıkmıştır. Kişinin yeniden hayata dönüşüne verilen isimdir Rönesans. Rönesans günümüzde kullanılan haliyle ilk kez 1860 yılında yazarı Jacob Burckhardt'ın kendi çabalarıyla yayımladığı İtalya'da Rönesans Kültürü adlı kitabında karşımıza çıkar. Şimdi daha geriye gidelim ve sizi sıkıcı bir takım tanımlamalardan uzaklaştıralım. Nedir bu Rönesans, ortaya çıkmasının sebepleri nedir ve nelere sebep olmuştur? Rönesans sanatını anlamak için öncelikle Ortaçağ'ı bilmemiz ve anlamamız gerekiyor. Rönesans öncesinde Ortaçağ, Carol Lange, Romanesque ve Gotik gibi sanat takımları hakimdi. Ancak şimdilik bu üç dönemi detaylandırmak yerine genel olarak Ortaçağ'ın karanlığından bahsetmek daha yerinde olacaktır.\n"
     ]
    }
   ],
   "source": [
    "from openai import OpenAI\n",
    "client = OpenAI()\n",
    "\n",
    "audio_file= open(\"data/audio.m4a\", \"rb\")\n",
    "transcript = client.audio.transcriptions.create(\n",
    "  model=\"whisper-1\", \n",
    "  file=audio_file\n",
    ")\n",
    "print(transcript.text)"
   ]
  },
  {
   "cell_type": "code",
   "execution_count": 2,
   "metadata": {},
   "outputs": [
    {
     "name": "stdout",
     "output_type": "stream",
     "text": [
      "Sanat tarihiyle ilgilenen veya ilgilenmeyen herkesin kulağına mutlaka Rönesans kelimesi çalınmış olmalı. Duyar duymaz aklımıza bilim, sanat ve yenilikler gelir. Ancak bu tanımlama aslında dini bir terim olarak ortaya çıkmıştır. Kişinin yeniden hayata dönüşüne verilen isimdir Rönesans. Rönesans günümüzde kullanılan haliyle ilk kez 1860 yılında yazarı Jacob Burckhardt'ın kendi çabalarıyla yayımladığı İtalya'da Rönesans Kültürü adlı kitabında karşımıza çıkar. Şimdi daha geriye gidelim ve sizi sıkıcı bir takım tanımlamalardan uzaklaştıralım. Nedir bu Rönesans, ortaya çıkmasının sebepleri nedir ve nelere sebep olmuştur? Rönesans sanatını anlamak için öncelikle Ortaçağ'ı bilmemiz ve anlamamız gerekiyor. Rönesans öncesinde Ortaçağ, Carol Lange, Romanesque ve Gotik gibi sanat takımları hakimdi. Ancak şimdilik bu üç dönemi detaylandırmak yerine genel olarak Ortaçağ'ın karanlığından bahsetmek daha yerinde olacaktır.\n",
      "\n"
     ]
    }
   ],
   "source": [
    "# Try to set the response format to 'text'\n",
    "transcript = client.audio.transcriptions.create(\n",
    "  model=\"whisper-1\", \n",
    "  file=audio_file, \n",
    "  response_format=\"text\"\n",
    ")\n",
    "print(transcript)"
   ]
  },
  {
   "cell_type": "markdown",
   "metadata": {},
   "source": [
    "## Translations\n",
    "The translations API takes as input the audio file in any of the supported languages and transcribes, if necessary, the audio into English. This differs from our /Transcriptions endpoint since the output is not in the original input language and is instead translated to English text."
   ]
  },
  {
   "cell_type": "code",
   "execution_count": 3,
   "metadata": {},
   "outputs": [
    {
     "name": "stdout",
     "output_type": "stream",
     "text": [
      "Everyone who is interested in art history must have heard the word Renaissance. As soon as we hear it, we think of science, art, and innovation. However, this definition has actually emerged as a religious term. Renaissance is the name given to the person's return to life. Renaissance is used today, for the first time in 1860, writer Jacob Burckhardt published it with his own efforts. In his book called Renaissance Culture in Italy, Now let's go back and remove you from boring definitions. What is this Renaissance? What are the reasons for its emergence and what has caused it? To understand the Renaissance art, we must first know and understand the Middle Ages. Before the Renaissance, the Middle Ages The art teams such as Carolingian, Romanesque and Gothic dominated. However, instead of detailing these 3 periods for now, it would be better to talk about the darkness of the Middle Ages.\n"
     ]
    }
   ],
   "source": [
    "translation = client.audio.translations.create(\n",
    "  model=\"whisper-1\", \n",
    "  file=audio_file,\n",
    "  temperature= 0.5\n",
    ")\n",
    "print(translation.text)"
   ]
  },
  {
   "cell_type": "markdown",
   "metadata": {},
   "source": [
    "## Supported languages\n",
    "We currently support the following languages through both the transcriptions and translations endpoint:\n",
    "\n",
    "Afrikaans, Arabic, Armenian, Azerbaijani, Belarusian, Bosnian, Bulgarian, Catalan, Chinese, Croatian, Czech, Danish, Dutch, English, Estonian, Finnish, French, Galician, German, Greek, Hebrew, Hindi, Hungarian, Icelandic, Indonesian, Italian, Japanese, Kannada, Kazakh, Korean, Latvian, Lithuanian, Macedonian, Malay, Marathi, Maori, Nepali, Norwegian, Persian, Polish, Portuguese, Romanian, Russian, Serbian, Slovak, Slovenian, Spanish, Swahili, Swedish, Tagalog, Tamil, Thai, Turkish, Ukrainian, Urdu, Vietnamese, and Welsh.\n",
    "\n",
    "While the underlying model was trained on 98 languages, we only list the languages that exceeded <50% [word error rate](https://en.wikipedia.org/wiki/Word_error_rate) (WER) which is an industry standard benchmark for speech to text model accuracy. The model will return results for languages not listed above but the quality will be low.\n",
    "\n",
    "## Longer inputs\n",
    "By default, the Whisper API only supports files that are less than 25 MB. If you have an audio file that is longer than that, you will need to break it up into chunks of 25 MB's or less or used a compressed audio format. To get the best performance, we suggest that you avoid breaking the audio up mid-sentence as this may cause some context to be lost.\n",
    "\n",
    "One way to handle this is to use the [PyDub open source Python package](https://github.com/jiaaro/pydub) to split the audio:"
   ]
  },
  {
   "cell_type": "code",
   "execution_count": 4,
   "metadata": {},
   "outputs": [
    {
     "data": {
      "text/plain": [
       "<_io.BufferedRandom name='output/large_audio_1.mp3'>"
      ]
     },
     "execution_count": 4,
     "metadata": {},
     "output_type": "execute_result"
    }
   ],
   "source": [
    "from pydub import AudioSegment\n",
    "\n",
    "large_audio_file = \"data/large_audio.mp3\"\n",
    "\n",
    "song = AudioSegment.from_file(large_audio_file)\n",
    "\n",
    "# PyDub handles time in milliseconds\n",
    "two_minutes = 2 * 60 * 1000\n",
    "\n",
    "first_2_minutes = song[:two_minutes]\n",
    "\n",
    "first_2_minutes.export(\"output/large_audio_1.mp3\", format=\"mp3\")"
   ]
  },
  {
   "cell_type": "markdown",
   "metadata": {},
   "source": [
    "## Prompting\n",
    "You can use a prompt to improve the quality of the transcripts generated by the Whisper API. The model will try to match the style of the prompt, so it will be more likely to use capitalization and punctuation if the prompt does too. However, the current prompting system is much more limited than other language models and only provides limited control over the generated audio. Here are some examples of how prompting can help in different scenarios:\n",
    "\n",
    "1. Prompts can be very helpful for correcting specific words or acronyms that the model may misrecognize in the audio. For example, the following prompt improves the transcription of the words DALL·E and GPT-3, which were previously written as \"GDP 3\" and \"DALI\": \"The transcript is about OpenAI which makes technology like DALL·E, GPT-3, and ChatGPT with the hope of one day building an AGI system that benefits all of humanity\"\n",
    "2. To preserve the context of a file that was split into segments, you can prompt the model with the transcript of the preceding segment. This will make the transcript more accurate, as the model will use the relevant information from the previous audio. The model will only consider the final 224 tokens of the prompt and ignore anything earlier.\n",
    "3. Sometimes the model might skip punctuation in the transcript. You can avoid this by using a simple prompt that includes punctuation: \"Hello, welcome to my lecture.\"\n",
    "4. The model may also leave out common filler words in the audio. If you want to keep the filler words in your transcript, you can use a prompt that contains them: \"Umm, let me think like, hmm... Okay, here's what I'm, like, thinking.\"\n",
    "4. Some languages can be written in different ways, such as simplified or traditional Chinese. The model might not always use the writing style that you want for your transcript by default. You can improve this by using a prompt in your preferred writing style."
   ]
  },
  {
   "cell_type": "markdown",
   "metadata": {},
   "source": [
    "## Improving reliability\n",
    "As we explored in the prompting section, one of the most common challenges faced when using Whisper is the model often does not recognize uncommon words or acronyms. To address this, we have highlighted different techniques which improve the reliability of Whisper in these cases:\n",
    "\n",
    "### Using the prompt parameter\n",
    "The first method involves using the optional prompt parameter to pass a dictionary of the correct spellings.\n",
    "\n",
    "Since it wasn't trained using instruction-following techniques, Whisper operates more like a base GPT model.\n",
    "\n",
    "While it will increase reliability, this technique is limited to only 244 characters so your list of SKUs would need to be relatively small in order for this to be a scalable solution.\n",
    "\n",
    "```python\n",
    "  prompt=\"ZyntriQix, Digique Plus, CynapseFive, VortiQore V8, EchoNix Array, OrbitalLink Seven, DigiFractal Matrix, PULSE, RAPT, B.R.I.C.K., Q.U.A.R.T.Z., F.L.I.N.T.\"\n",
    "```\n",
    "\n",
    "### Post-processing with GPT-4 \n",
    "The second method involves a post-processing step using GPT-4 or GPT-3.5-Turbo.\n",
    "\n",
    "We start by providing instructions for GPT-4 through the system_prompt variable. Similar to what we did with the prompt parameter earlier, we can define our company and product names.\n",
    "\n",
    "If you try this on your own audio file, you can see that GPT-4 manages to correct many misspellings in the transcript. Due to its larger context window, this method might be more scalable than using Whisper's prompt parameter and is more reliable since GPT-4 can be instructed and guided in ways that aren't possible with Whisper given the lack of instruction following."
   ]
  },
  {
   "cell_type": "code",
   "execution_count": 8,
   "metadata": {},
   "outputs": [
    {
     "name": "stdout",
     "output_type": "stream",
     "text": [
      "Output without prompt:\n",
      "Welcome to our company Zintrik X. Today, we will talk about our new products, DGQ+, Synapse 5, VortiCore V8, Equinix Array, and also we will talk about our existing products and their performance, which are Brick, Quartz, and Flint.\n"
     ]
    }
   ],
   "source": [
    "audio_file= open(\"data/audio_with_concepts.m4a\", \"rb\")\n",
    "transcript = client.audio.transcriptions.create(\n",
    "  model=\"whisper-1\", \n",
    "  file=audio_file,\n",
    "  language=\"en\"\n",
    ")\n",
    "print(f\"Output without prompt:\\n{transcript.text}\")"
   ]
  },
  {
   "cell_type": "code",
   "execution_count": 9,
   "metadata": {},
   "outputs": [
    {
     "name": "stdout",
     "output_type": "stream",
     "text": [
      "Output with prompt:\n",
      "Welcome to our company ZyntriQix. Today we will talk about our new products, Digique Plus, CynapseFive, VortiQore V8, EchoNix Array, and also we will talk about our existing products and their performance, which are B.R.I.C.K., Q.U.A.R.T.Z., and F.L.I.N.T.\n"
     ]
    }
   ],
   "source": [
    "audio_file= open(\"data/audio_with_concepts.m4a\", \"rb\")\n",
    "transcript = client.audio.transcriptions.create(\n",
    "  model=\"whisper-1\", \n",
    "  file=audio_file,\n",
    "  language=\"en\",\n",
    "  prompt=\"ZyntriQix, Digique Plus, CynapseFive, VortiQore V8, EchoNix Array, OrbitalLink Seven, DigiFractal Matrix, PULSE, RAPT, B.R.I.C.K., Q.U.A.R.T.Z., F.L.I.N.T.\"\n",
    ")\n",
    "print(f\"Output with prompt:\\n{transcript.text}\")"
   ]
  },
  {
   "cell_type": "code",
   "execution_count": 10,
   "metadata": {},
   "outputs": [
    {
     "name": "stdout",
     "output_type": "stream",
     "text": [
      "Output corrected by GTP-4:\n",
      "Welcome to our company ZyntriQix. Today, we will talk about our new products, Digique Plus, CynapseFive, VortiQore V8, EchoNix Array, and also we will talk about our existing products and their performance, which are B.R.I.C.K., Q.U.A.R.T.Z., and F.L.I.N.T.\n"
     ]
    }
   ],
   "source": [
    "system_prompt = \"You are a helpful assistant for the company ZyntriQix. Your task is to correct any spelling discrepancies in the transcribed text. Make sure that the names of the following products are spelled correctly: ZyntriQix, Digique Plus, CynapseFive, VortiQore V8, EchoNix Array, OrbitalLink Seven, DigiFractal Matrix, PULSE, RAPT, B.R.I.C.K., Q.U.A.R.T.Z., F.L.I.N.T. Only add necessary punctuation such as periods, commas, and capitalization, and use only the context provided.\"\n",
    "\n",
    "def generate_corrected_transcript(system_prompt, content):\n",
    "    response = client.chat.completions.create(\n",
    "        model=\"gpt-4\",\n",
    "        temperature=0,\n",
    "        messages=[\n",
    "            {\n",
    "                \"role\": \"system\",\n",
    "                \"content\": system_prompt\n",
    "            },\n",
    "            {\n",
    "                \"role\": \"user\",\n",
    "                \"content\": content\n",
    "            }\n",
    "        ]\n",
    "    )\n",
    "    return response.choices[0].message.content\n",
    "\n",
    "audio_file= open(\"data/audio_with_concepts.m4a\", \"rb\")\n",
    "transcript = client.audio.transcriptions.create(\n",
    "  model=\"whisper-1\", \n",
    "  file=audio_file,\n",
    "  language=\"en\"\n",
    ")\n",
    "\n",
    "corrected_text = generate_corrected_transcript(system_prompt, transcript.text)\n",
    "print(f\"Output corrected by GTP-4:\\n{corrected_text}\")"
   ]
  }
 ],
 "metadata": {
  "kernelspec": {
   "display_name": "env",
   "language": "python",
   "name": "python3"
  },
  "language_info": {
   "codemirror_mode": {
    "name": "ipython",
    "version": 3
   },
   "file_extension": ".py",
   "mimetype": "text/x-python",
   "name": "python",
   "nbconvert_exporter": "python",
   "pygments_lexer": "ipython3",
   "version": "3.12.1"
  }
 },
 "nbformat": 4,
 "nbformat_minor": 2
}
