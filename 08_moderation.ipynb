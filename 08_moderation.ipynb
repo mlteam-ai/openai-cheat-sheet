{
 "cells": [
  {
   "cell_type": "markdown",
   "metadata": {},
   "source": [
    "# Moderation\n",
    "The [moderations](https://platform.openai.com/docs/api-reference/moderations) endpoint is a tool you can use to check whether content complies with OpenAI's usage policies. Developers can thus identify content that our usage policies prohibits and take action, for instance by filtering it. The models classifies the following categories:\n",
    "\n",
    "| CATEGORY               | DESCRIPTION |\n",
    "|------------------------|-------------|\n",
    "| hate                   | Content that expresses, incites, or promotes hate based on race, gender, ethnicity, religion, nationality, sexual orientation, disability status, or caste. Hateful content aimed at non-protected groups (e.g., chess players) is harassment. |\n",
    "| hate/threatening       | Hateful content that also includes violence or serious harm towards the targeted group based on race, gender, ethnicity, religion, nationality, sexual orientation, disability status, or caste. |\n",
    "| harassment             | Content that expresses, incites, or promotes harassing language towards any target. |\n",
    "| harassment/threatening | Harassment content that also includes violence or serious harm towards any target. |\n",
    "| self-harm              | Content that promotes, encourages, or depicts acts of self-harm, such as suicide, cutting, and eating disorders. |\n",
    "| self-harm/intent       | Content where the speaker expresses that they are engaging or intend to engage in acts of self-harm, such as suicide, cutting, and eating disorders. |\n",
    "| self-harm/instructions | Content that encourages performing acts of self-harm, such as suicide, cutting, and eating disorders, or that gives instructions or advice on how to commit such acts. |\n",
    "| sexual                 | Content meant to arouse sexual excitement, such as the description of sexual activity, or that promotes sexual services (excluding sex education and wellness). |\n",
    "| sexual/minors          | Sexual content that includes an individual who is under 18 years old. |\n",
    "| violence               | Content that depicts death, violence, or physical injury. |\n",
    "| violence/graphic       | Content that depicts death, violence, or physical injury in graphic detail. |\n",
    "\n",
    "The moderation endpoint is free to use when monitoring the inputs and outputs of OpenAI APIs. OpenAI currently disallows other use cases. Accuracy may be lower on longer pieces of text. For higher accuracy, try splitting long pieces of text into smaller chunks each less than 2,000 characters.\n",
    "\n",
    "> ***NOTE*** OpenAI will continuously upgrade the moderation endpoint's underlying model. Therefore, custom policies that rely on category_scores may need recalibration over time."
   ]
  },
  {
   "cell_type": "code",
   "execution_count": 11,
   "metadata": {},
   "outputs": [
    {
     "name": "stdout",
     "output_type": "stream",
     "text": [
      "{\n",
      "    \"id\": \"modr-8oTjk7ZnWhAoMvRqHQXtiVYWnFbkf\",\n",
      "    \"model\": \"text-moderation-007\",\n",
      "    \"results\": [\n",
      "        {\n",
      "            \"categories\": {\n",
      "                \"harassment\": true,\n",
      "                \"harassment_threatening\": false,\n",
      "                \"hate\": true,\n",
      "                \"hate_threatening\": false,\n",
      "                \"self_harm\": false,\n",
      "                \"self_harm_instructions\": false,\n",
      "                \"self_harm_intent\": false,\n",
      "                \"sexual\": false,\n",
      "                \"sexual_minors\": false,\n",
      "                \"violence\": false,\n",
      "                \"violence_graphic\": false\n",
      "            },\n",
      "            \"category_scores\": {\n",
      "                \"harassment\": 0.9897715449333191,\n",
      "                \"harassment_threatening\": 4.2508519982220605e-05,\n",
      "                \"hate\": 0.9704028964042664,\n",
      "                \"hate_threatening\": 4.806046126759611e-05,\n",
      "                \"self_harm\": 6.25413036914324e-08,\n",
      "                \"self_harm_instructions\": 5.828683811159863e-07,\n",
      "                \"self_harm_intent\": 5.368442757003322e-08,\n",
      "                \"sexual\": 2.0312852939241566e-05,\n",
      "                \"sexual_minors\": 2.3078187950886786e-05,\n",
      "                \"violence\": 0.013214891776442528,\n",
      "                \"violence_graphic\": 9.56310032051988e-07\n",
      "            },\n",
      "            \"flagged\": true\n",
      "        }\n",
      "    ]\n",
      "}\n"
     ]
    }
   ],
   "source": [
    "# Sorry to use some bad words and statements, it is just to showcase how moderations works. I love kids :)\n",
    "\n",
    "from openai import OpenAI\n",
    "client = OpenAI()\n",
    "\n",
    "response = client.moderations.create(input=\"I hate the kids. They are a pain in the ass!\")\n",
    "\n",
    "# The following part is just for seeing the output in a formatted way.\n",
    "def to_dict(object): \n",
    "    if type(object) == list:\n",
    "         for i, item in enumerate(object):\n",
    "            object[i] = to_dict(item)\n",
    "    if type(object) == dict:\n",
    "        for key, value in object.items():\n",
    "            object[key] = to_dict(value)\n",
    "    if hasattr(object, \"__dict__\"): return to_dict(object.__dict__)\n",
    "    return object\n",
    "\n",
    "import json\n",
    "print(json.dumps(to_dict(response), indent=4))"
   ]
  }
 ],
 "metadata": {
  "kernelspec": {
   "display_name": "env",
   "language": "python",
   "name": "python3"
  },
  "language_info": {
   "codemirror_mode": {
    "name": "ipython",
    "version": 3
   },
   "file_extension": ".py",
   "mimetype": "text/x-python",
   "name": "python",
   "nbconvert_exporter": "python",
   "pygments_lexer": "ipython3",
   "version": "3.12.1"
  }
 },
 "nbformat": 4,
 "nbformat_minor": 2
}
