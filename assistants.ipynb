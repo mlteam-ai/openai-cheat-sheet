{
 "cells": [
  {
   "cell_type": "markdown",
   "metadata": {},
   "source": [
    "# Assistants\n",
    "\n",
    "## Introduction\n",
    "\n",
    "The Assistants API allows you to build AI assistants within your own applications. An Assistant has instructions and can leverage models, tools, and knowledge to respond to user queries. The Assistants API currently supports three types of tools: Code Interpreter, Retrieval, and Function calling.\n",
    "\n",
    "1. Assistants can call OpenAI’s models with specific instructions to tune their personality and capabilities.\n",
    "2. Assistants can access multiple tools in parallel. These can be both OpenAI-hosted tools — like Code interpreter and Knowledge retrieval — or tools you build / host (via Function calling).\n",
    "3. Assistants can access persistent Threads. Threads simplify AI application development by storing message history and truncating it when the conversation gets too long for the model’s context length. You create a Thread once, and simply append Messages to it as your users reply.\n",
    "4. Assistants can access Files in several formats — either as part of their creation or as part of Threads between Assistants and users. When using tools, Assistants can also create files (e.g., images, spreadsheets, etc) and cite files they reference in the Messages they create.\n",
    "\n",
    "You can explore the capabilities of the Assistants API using the [Assistants playground](https://platform.openai.com/playground?mode=assistant) or by building a step-by-step integration outlined in this guide. At a high level, a typical integration of the Assistants API has the following flow:\n",
    "\n",
    "1. Create an Assistant in the API by defining its custom instructions and picking a model. If helpful, enable tools like Code Interpreter, Retrieval, and Function calling.\n",
    "2. Create a Thread when a user starts a conversation.\n",
    "3. Add Messages to the Thread as the user ask questions.\n",
    "4. Run the Assistant on the Thread to trigger responses. This automatically calls the relevant tools.\n",
    "\n",
    "The Assistants API is in **beta**. Calls to the Assistants API require that you pass a beta HTTP header. This is handled automatically if you’re using OpenAI’s official Python or Node.js SDKs.\n",
    "```htm\n",
    "OpenAI-Beta: assistants=v1\n",
    "```\n"
   ]
  },
  {
   "cell_type": "markdown",
   "metadata": {},
   "source": [
    "## How Assistants Work\n",
    "### Objects\n",
    "![Objects](https://cdn.openai.com/API/docs/images/diagram-assistant.webp)\n",
    "| OBJECT   | WHAT IT REPRESENTS |\n",
    "|----------|--------------------|\n",
    "| Assistant | Purpose-built AI that uses OpenAI’s models and calls tools |\n",
    "| Thread   | A conversation session between an Assistant and a user. Threads store Messages and automatically handle truncation to fit content into a model’s context. |\n",
    "| Message  | A message created by an Assistant or a user. Messages can include text, images, and other files. Messages stored as a list on the Thread. |\n",
    "| Run      | An invocation of an Assistant on a Thread. The Assistant uses its configuration and the Thread’s Messages to perform tasks by calling models and tools. As part of a Run, the Assistant appends Messages to the Thread. |\n",
    "| Run Step | A detailed list of steps the Assistant took as part of a Run. An Assistant can call tools or create Messages during its run. Examining Run Steps allows you to introspect how the Assistant is getting to its final results. |\n"
   ]
  },
  {
   "cell_type": "markdown",
   "metadata": {},
   "source": [
    "### Step 1: Create an Assistant\n",
    "An Assistant represents an entity that can be configured to respond to users’ Messages using several parameters like:\n",
    "\n",
    "* **Instructions**: Use the instructions parameter to guide the personality of the Assistant and define it’s goals. Instructions are similar to system messages in the Chat Completions API.\n",
    "* **Model**: you can specify any GPT-3.5 or GPT-4 models. The Retrieval tool requires at least `gpt-3.5-turbo-1106` (newer versions are supported) or `gpt-4-turbo-preview` models.\n",
    "    * Note: Support for fine-tuned models in the Assistants API is coming soon.\n",
    "* **Tools**: Use the tools parameter to give the Assistant access to up to 128 tools. You can give it access to OpenAI-hosted tools like `code_interpreter` and `retrieval`, or call a third-party tools via a `function` calling.\n",
    "* **File_ids**: Use the file_ids parameter to give the tools like code_interpreter and retrieval access to files. Files are uploaded using the [File upload endpoint](https://platform.openai.com/docs/api-reference/files/create) and must have the `purpose` set to `assistants` to be used with this API.\n",
    "\n",
    "In the following example, we're creating an Assistant that is a personal math tutor, with the Code Interpreter tool enabled.\n"
   ]
  },
  {
   "cell_type": "code",
   "execution_count": 22,
   "metadata": {},
   "outputs": [],
   "source": [
    "# The following part is just for seeing the output in a formatted way.\n",
    "def to_dict(object): \n",
    "    if type(object) == list:\n",
    "         for i, item in enumerate(object):\n",
    "            object[i] = to_dict(item)\n",
    "    if type(object) == dict:\n",
    "        for key, value in object.items():\n",
    "            object[key] = to_dict(value)\n",
    "    if hasattr(object, \"__dict__\"): return to_dict(object.__dict__)\n",
    "    return object\n",
    "\n",
    "def print_object(object):\n",
    "    import json\n",
    "    print(json.dumps(to_dict(object), indent=4))"
   ]
  },
  {
   "cell_type": "code",
   "execution_count": 23,
   "metadata": {},
   "outputs": [],
   "source": [
    "# In this example, we're creating an Assistant that is a personal math tutor, with the Code Interpreter tool enabled.\n",
    "from openai import OpenAI\n",
    "client = OpenAI()\n",
    "\n",
    "assistant = client.beta.assistants.create(\n",
    "    name=\"Math Tutor\",\n",
    "    instructions=\"You are a personal math tutor. Write and run code to answer math questions.\",\n",
    "    tools=[{\"type\": \"code_interpreter\"}],\n",
    "    model=\"gpt-4-turbo-preview\"\n",
    ")"
   ]
  },
  {
   "cell_type": "markdown",
   "metadata": {},
   "source": [
    "### Step 2: Create a Thread\n",
    "A Thread represents a conversation. We recommend [creating one Thread](https://platform.openai.com/docs/api-reference/threads/createThread) per user as soon as the user initiates the conversation. Pass any user-specific context and files in this thread by [creating Messages](https://platform.openai.com/docs/api-reference/messages/createMessage).\n",
    "\n",
    "Threads don’t have a size limit. You can add as many Messages as you want to a Thread. The Assistant will ensure that requests to the model fit within the maximum context window, using relevant optimization techniques such as truncation which we have tested extensively with ChatGPT. When you use the Assistants API, you delegate control over how many input tokens are passed to the model for any given Run, this means you have less control over the cost of running your Assistant in some cases but do not have to deal with the complexity of managing the context window yourself.\n",
    "\n",
    "Organizations that have enabled the [Threads page](https://platform.openai.com/threads) can view Threads created through the Assistants API and Assistants playground. Threads page permissions can be managed in [Organization settings](https://platform.openai.com/account/organization)."
   ]
  },
  {
   "cell_type": "code",
   "execution_count": 24,
   "metadata": {},
   "outputs": [],
   "source": [
    "thread = client.beta.threads.create()"
   ]
  },
  {
   "cell_type": "markdown",
   "metadata": {},
   "source": [
    "### Step 3: Add a Message to a Thread\n",
    "A Message contains text, and optionally any files that you allow the user to upload. Messages need to be added to a specific Thread. Adding images via message objects like in Chat Completions using GPT-4 with Vision is not supported today, but we plan to add support for them in the coming months. You can still upload images and have them processes via retrieval."
   ]
  },
  {
   "cell_type": "code",
   "execution_count": 25,
   "metadata": {},
   "outputs": [
    {
     "name": "stdout",
     "output_type": "stream",
     "text": [
      "[\n",
      "    {\n",
      "        \"id\": \"msg_9zgGATOjYcaQHGeQ3Bwxemjp\",\n",
      "        \"assistant_id\": null,\n",
      "        \"content\": [\n",
      "            {\n",
      "                \"text\": {\n",
      "                    \"annotations\": [],\n",
      "                    \"value\": \"I need to solve the equation `3x + 11 = 14`. Can you help me?\"\n",
      "                },\n",
      "                \"type\": \"text\"\n",
      "            }\n",
      "        ],\n",
      "        \"created_at\": 1707157660,\n",
      "        \"file_ids\": [],\n",
      "        \"metadata\": {},\n",
      "        \"object\": \"thread.message\",\n",
      "        \"role\": \"user\",\n",
      "        \"run_id\": null,\n",
      "        \"thread_id\": \"thread_D1QN193wuWvZhtc2pnggt2OA\"\n",
      "    }\n",
      "]\n"
     ]
    }
   ],
   "source": [
    "message = client.beta.threads.messages.create(\n",
    "    thread_id=thread.id,\n",
    "    role=\"user\",\n",
    "    content=\"I need to solve the equation `3x + 11 = 14`. Can you help me?\"\n",
    ")\n",
    "\n",
    "# Now if you list the Messages in a Thread, you will see that this message has been appended.\n",
    "thread_messages = client.beta.threads.messages.list(thread.id)\n",
    "print_object(thread_messages.data)"
   ]
  },
  {
   "cell_type": "markdown",
   "metadata": {},
   "source": [
    "### Step 4: Run the Assistant\n",
    "For the Assistant to respond to the user message, you need to create a Run. This makes the Assistant read the Thread and decide whether to call tools (if they are enabled) or simply use the model to best answer the query. As the run progresses, the assistant appends Messages to the thread with the `role=\"assistant\"`. The Assistant will also automatically decide what previous Messages to include in the context window for the model. This has both an impact on pricing as well as model performance. The current approach has been optimized based on what we learned building ChatGPT and will likely evolve over time.\n",
    "\n",
    "You can optionally pass new instructions to the Assistant while creating the Run but note that these instructions override the default instructions of the Assistant.\n",
    "\n",
    "By default, a Run will use the model and tools configuration specified in Assistant object, but you can override most of these when creating the Run for added flexibility.\n",
    "\n",
    "> ***Note***: file_ids associated with the Assistant cannot be overridden during Run creation. You must use the [modify Assistant](https://platform.openai.com/docs/api-reference/assistants/modifyAssistant) endpoint to do this."
   ]
  },
  {
   "cell_type": "code",
   "execution_count": 26,
   "metadata": {},
   "outputs": [],
   "source": [
    "# Trigger the run\n",
    "run = client.beta.threads.runs.create(\n",
    "  thread_id=thread.id,\n",
    "  assistant_id=assistant.id,\n",
    "  instructions=\"Please address the user as Jane Doe. The user has a premium account.\"\n",
    ")"
   ]
  },
  {
   "cell_type": "markdown",
   "metadata": {},
   "source": [
    "### Step5: Check the Run Status\n",
    "Run objects can have multiple statuses.\n",
    "\n",
    "![Run lifecycle](https://cdn.openai.com/API/docs/images/diagram-1.png)\n",
    "\n",
    "| STATUS          | DEFINITION |\n",
    "|-----------------|------------|\n",
    "| queued          | When Runs are first created or when you complete the required_action, they are moved to a queued status. They should almost immediately move to in_progress. |\n",
    "| in_progress     | While in_progress, the Assistant uses the model and tools to perform steps. You can view progress being made by the Run by examining the Run Steps. |\n",
    "| completed       | The Run successfully completed! You can now view all Messages the Assistant added to the Thread, and all the steps the Run took. You can also continue the conversation by adding more user Messages to the Thread and creating another Run. |\n",
    "| requires_action | When using the Function calling tool, the Run will move to a required_action state once the model determines the names and arguments of the functions to be called. You must then run those functions and submit the outputs before the run proceeds. If the outputs are not provided before the expires_at timestamp passes (roughly 10 mins past creation), the run will move to an expired status. |\n",
    "| expired         | This happens when the function calling outputs were not submitted before expires_at and the run expires. Additionally, if the runs take too long to execute and go beyond the time stated in expires_at, our systems will expire the run. |\n",
    "| cancelling      | You can attempt to cancel an in_progress run using the Cancel Run endpoint. Once the attempt to cancel succeeds, status of the Run moves to cancelled. Cancellation is attempted but not guaranteed. |\n",
    "| cancelled       | Run was successfully cancelled. |\n",
    "| failed          | You can view the reason for the failure by looking at the last_error object in the Run. The timestamp for the failure will be recorded under failed_at. |\n",
    "\n",
    "When a Run is in_progress and not in a terminal state, the Thread is locked. This means that:\n",
    "* New Messages cannot be added to the Thread.\n",
    "* New Runs cannot be created on the Thread."
   ]
  },
  {
   "cell_type": "code",
   "execution_count": 27,
   "metadata": {},
   "outputs": [
    {
     "name": "stdout",
     "output_type": "stream",
     "text": [
      "Run completed\n",
      "{\n",
      "    \"id\": \"run_LFAxcQkSd3VZoebvbY3Rkac6\",\n",
      "    \"assistant_id\": \"asst_nqZVT6rNE8VnYrD0oo9Vwdzo\",\n",
      "    \"cancelled_at\": null,\n",
      "    \"completed_at\": 1707157682,\n",
      "    \"created_at\": 1707157665,\n",
      "    \"expires_at\": null,\n",
      "    \"failed_at\": null,\n",
      "    \"file_ids\": [],\n",
      "    \"instructions\": \"Please address the user as Jane Doe. The user has a premium account.\",\n",
      "    \"last_error\": null,\n",
      "    \"metadata\": {},\n",
      "    \"model\": \"gpt-4-turbo-preview\",\n",
      "    \"object\": \"thread.run\",\n",
      "    \"required_action\": null,\n",
      "    \"started_at\": 1707157666,\n",
      "    \"status\": \"completed\",\n",
      "    \"thread_id\": \"thread_D1QN193wuWvZhtc2pnggt2OA\",\n",
      "    \"tools\": [\n",
      "        {\n",
      "            \"type\": \"code_interpreter\"\n",
      "        }\n",
      "    ],\n",
      "    \"usage\": {\n",
      "        \"completion_tokens\": 172,\n",
      "        \"prompt_tokens\": 652,\n",
      "        \"total_tokens\": 824\n",
      "    }\n",
      "}\n"
     ]
    }
   ],
   "source": [
    "# By default, the run goes into the queued state. You can periodically retrieve the Run to check on its status to see if it has moved to completed.\n",
    "import time\n",
    "\n",
    "while True:\n",
    "    time.sleep(5)\n",
    "    run = client.beta.threads.runs.retrieve(\n",
    "      thread_id=thread.id,\n",
    "      run_id=run.id\n",
    "    )\n",
    "    if run.status in ['queued', 'in_progress', 'requires_action', 'cancelling']:\n",
    "        continue\n",
    "    if run.status in [\"completed\", \"expired\", \"failed\", \"cancelled\"]:\n",
    "        print(f\"Run is {run.status}\")\n",
    "        break\n",
    "    break\n",
    "print_object(run)"
   ]
  },
  {
   "cell_type": "markdown",
   "metadata": {},
   "source": [
    "### Step 6: Display the Assistant's Response\n",
    "Once the Run completes, you can list the Messages added to the Thread by the Assistant."
   ]
  },
  {
   "cell_type": "code",
   "execution_count": 28,
   "metadata": {},
   "outputs": [
    {
     "name": "stdout",
     "output_type": "stream",
     "text": [
      "[\n",
      "    {\n",
      "        \"id\": \"msg_wLbrkbdRN5KZsLOLeV1z3448\",\n",
      "        \"assistant_id\": \"asst_nqZVT6rNE8VnYrD0oo9Vwdzo\",\n",
      "        \"content\": [\n",
      "            {\n",
      "                \"text\": {\n",
      "                    \"annotations\": [],\n",
      "                    \"value\": \"The solution to the equation \\\\(3x + 11 = 14\\\\) is \\\\(x = 1\\\\). If you have any more questions or need further assistance, feel free to ask!\"\n",
      "                },\n",
      "                \"type\": \"text\"\n",
      "            }\n",
      "        ],\n",
      "        \"created_at\": 1707157680,\n",
      "        \"file_ids\": [],\n",
      "        \"metadata\": {},\n",
      "        \"object\": \"thread.message\",\n",
      "        \"role\": \"assistant\",\n",
      "        \"run_id\": \"run_LFAxcQkSd3VZoebvbY3Rkac6\",\n",
      "        \"thread_id\": \"thread_D1QN193wuWvZhtc2pnggt2OA\"\n",
      "    },\n",
      "    {\n",
      "        \"id\": \"msg_NxC3VR0ac9tAm2MbdMBtbwBo\",\n",
      "        \"assistant_id\": \"asst_nqZVT6rNE8VnYrD0oo9Vwdzo\",\n",
      "        \"content\": [\n",
      "            {\n",
      "                \"text\": {\n",
      "                    \"annotations\": [],\n",
      "                    \"value\": \"Absolutely, Jane Doe! To solve the equation \\\\(3x + 11 = 14\\\\), you can follow these steps:\\n\\n1. Subtract 11 from both sides of the equation to isolate the term with \\\\(x\\\\).\\n2. Divide both sides of the equation by 3 to solve for \\\\(x\\\\).\\n\\nLet's calculate it.\"\n",
      "                },\n",
      "                \"type\": \"text\"\n",
      "            }\n",
      "        ],\n",
      "        \"created_at\": 1707157667,\n",
      "        \"file_ids\": [],\n",
      "        \"metadata\": {},\n",
      "        \"object\": \"thread.message\",\n",
      "        \"role\": \"assistant\",\n",
      "        \"run_id\": \"run_LFAxcQkSd3VZoebvbY3Rkac6\",\n",
      "        \"thread_id\": \"thread_D1QN193wuWvZhtc2pnggt2OA\"\n",
      "    },\n",
      "    {\n",
      "        \"id\": \"msg_9zgGATOjYcaQHGeQ3Bwxemjp\",\n",
      "        \"assistant_id\": null,\n",
      "        \"content\": [\n",
      "            {\n",
      "                \"text\": {\n",
      "                    \"annotations\": [],\n",
      "                    \"value\": \"I need to solve the equation `3x + 11 = 14`. Can you help me?\"\n",
      "                },\n",
      "                \"type\": \"text\"\n",
      "            }\n",
      "        ],\n",
      "        \"created_at\": 1707157660,\n",
      "        \"file_ids\": [],\n",
      "        \"metadata\": {},\n",
      "        \"object\": \"thread.message\",\n",
      "        \"role\": \"user\",\n",
      "        \"run_id\": null,\n",
      "        \"thread_id\": \"thread_D1QN193wuWvZhtc2pnggt2OA\"\n",
      "    }\n",
      "]\n"
     ]
    }
   ],
   "source": [
    "messages = client.beta.threads.messages.list(\n",
    "  thread_id=thread.id\n",
    ")\n",
    "\n",
    "#For you to better understand the data structure of the messages\n",
    "print_object(messages.data)"
   ]
  },
  {
   "cell_type": "code",
   "execution_count": 29,
   "metadata": {},
   "outputs": [
    {
     "name": "stdout",
     "output_type": "stream",
     "text": [
      "_______Role: user_______\n",
      "\n",
      "I need to solve the equation `3x + 11 = 14`. Can you help me?\n",
      "\n",
      "_______Role: assistant_______\n",
      "\n",
      "Absolutely, Jane Doe! To solve the equation \\(3x + 11 = 14\\), you can follow these steps:\n",
      "\n",
      "1. Subtract 11 from both sides of the equation to isolate the term with \\(x\\).\n",
      "2. Divide both sides of the equation by 3 to solve for \\(x\\).\n",
      "\n",
      "Let's calculate it.\n",
      "\n",
      "_______Role: assistant_______\n",
      "\n",
      "The solution to the equation \\(3x + 11 = 14\\) is \\(x = 1\\). If you have any more questions or need further assistance, feel free to ask!\n",
      "\n"
     ]
    }
   ],
   "source": [
    "# Finally display the messages to the user\n",
    "\n",
    "# messages.data list holds the last message at the index 0, so we reverse the list to see in chronological order.\n",
    "for message in reversed(messages.data):\n",
    "  print(f\"_______Role: {message['role']}_______\\n\")\n",
    "  # message.content is a list, but I only see 1 item in the list, anyhow used a loop.\n",
    "  for i, content in enumerate(message['content']):\n",
    "    print(f\"{content['text']['value']}\\n\")"
   ]
  },
  {
   "cell_type": "markdown",
   "metadata": {},
   "source": [
    "### Run Steps\n",
    "![Run steps](https://cdn.openai.com/API/docs/images/diagram-2.png)\n",
    "\n",
    "Run step statuses have the same meaning as Run statuses.\n",
    "\n",
    "Most of the interesting detail in the Run Step object lives in the step_details field. There can be two types of step details:\n",
    "1. `message_creation`: This Run Step is created when the Assistant creates a Message on the Thread.\n",
    "2. `tool_calls`: This Run Step is created when the Assistant calls a tool. Details around this are covered in the relevant sections of the Tools guide."
   ]
  },
  {
   "cell_type": "code",
   "execution_count": 30,
   "metadata": {},
   "outputs": [
    {
     "name": "stdout",
     "output_type": "stream",
     "text": [
      "message_creation: MessageCreation(message_id='msg_wLbrkbdRN5KZsLOLeV1z3448')\n",
      "tool_calls: [CodeToolCall(id='call_5KKGFCs8dZ9sQ12IbhXpcbi7', code_interpreter=CodeInterpreter(input=\"from sympy import symbols, Eq, solve\\n\\n# Define symbols\\nx = symbols('x')\\n\\n# Define the equation\\nequation = Eq(3*x + 11, 14)\\n\\n\\n# Solve the equation\\nsolution = solve(equation, x)\\nsolution\", outputs=[CodeInterpreterOutputLogs(logs='[1]', type='logs')]), type='code_interpreter')]\n",
      "message_creation: MessageCreation(message_id='msg_NxC3VR0ac9tAm2MbdMBtbwBo')\n"
     ]
    }
   ],
   "source": [
    "run_steps = client.beta.threads.runs.steps.list(\n",
    "    thread_id=thread.id,\n",
    "    run_id=run.id\n",
    ")\n",
    "\n",
    "for step in run_steps:\n",
    "    print(f\"{step.step_details.type}: {getattr(step.step_details, step.step_details.type)}\")"
   ]
  },
  {
   "cell_type": "markdown",
   "metadata": {},
   "source": [
    "### Cleanup\n",
    "\n",
    "You can delete your assistant and/or threads. "
   ]
  },
  {
   "cell_type": "code",
   "execution_count": 33,
   "metadata": {},
   "outputs": [
    {
     "data": {
      "text/plain": [
       "ThreadDeleted(id='thread_D1QN193wuWvZhtc2pnggt2OA', deleted=True, object='thread.deleted')"
      ]
     },
     "execution_count": 33,
     "metadata": {},
     "output_type": "execute_result"
    }
   ],
   "source": [
    "# Delete the assistant\n",
    "client.beta.assistants.delete(assistant_id=assistant.id)\n",
    "\n",
    "# Delete the thread\n",
    "client.beta.threads.delete(thread_id=thread.id)"
   ]
  },
  {
   "cell_type": "markdown",
   "metadata": {},
   "source": [
    "## Tools\n",
    "Give Assistants access to OpenAI-hosted tools like Code Interpreter and Knowledge Retrieval, or build your own tools using Function calling. Usage of OpenAI-hosted tools comes at an additional fee — visit [help center article](https://help.openai.com/en/articles/8550641-assistants-api) to learn more about how these tools are priced."
   ]
  },
  {
   "cell_type": "markdown",
   "metadata": {},
   "source": [
    "### Code Interpreter\n",
    "Code Interpreter allows the Assistants API to write and run Python code in a sandboxed execution environment. This tool can process files with diverse data and formatting, and generate files with data and images of graphs. Code Interpreter allows your Assistant to run code iteratively to solve challenging code and math problems. When your Assistant writes code that fails to run, it can iterate on this code by attempting to run different code until the code execution succeeds.\n",
    "\n",
    "Code Interpreter is charged at $0.03 per session. If your Assistant calls Code Interpreter simultaneously in two different threads (e.g., one thread per end-user), two Code Interpreter sessions are created. Each session is active by default for one hour, which means that you only pay for one session per if users interact with Code Interpreter in the same thread for up to one hour.\n",
    "\n",
    "To enable it, pass the `code_interpreter` in the `tools` parameter of the Assistant object to enable Code Interpreter. The model then decides when to invoke Code Interpreter in a Run based on the nature of the user request. This behavior can be promoted by prompting in the Assistant's instructions (e.g., “write code to solve this problem”)."
   ]
  },
  {
   "cell_type": "markdown",
   "metadata": {},
   "source": [
    "#### Using Files with Code Interpreter\n",
    "Code Interpreter can parse data from files. This is useful when you want to provide a large volume of data to the Assistant or allow your users to upload their own files for analysis. Note that files uploaded for Code Interpreter are not indexed for retrieval. See the Knowledge Retrieval section below for more details on indexing files for retrieval.\n",
    "\n",
    "Files that are passed at the Assistant level are accessible by all Runs with this Assistant. Files can also be passed at individual Message level. These files are only accessible in the specific Thread."
   ]
  },
  {
   "cell_type": "code",
   "execution_count": 90,
   "metadata": {},
   "outputs": [
    {
     "name": "stdout",
     "output_type": "stream",
     "text": [
      "Run is completed\n"
     ]
    }
   ],
   "source": [
    "# Upload a file with an \"assistants\" purpose\n",
    "file = client.files.create(\n",
    "  file=open(\"data/AG_news_samples.csv\", \"rb\"),\n",
    "  purpose='assistants'\n",
    ")\n",
    "\n",
    "# Create an assistant with 'code_interpreter' enabled\n",
    "assistant = client.beta.assistants.create(\n",
    "  instructions=\"You are an assistant that does exploratory data analysis given a dataset as a CSV file. When asked a question about the data, write and run code to answer the question.\",\n",
    "  model=\"gpt-4-turbo-preview\",\n",
    "  tools=[{\"type\": \"code_interpreter\"}]\n",
    ")\n",
    "\n",
    "thread = client.beta.threads.create()\n",
    "\n",
    "message = client.beta.threads.messages.create(\n",
    "    thread_id=thread.id,\n",
    "    role=\"user\",\n",
    "    content=\"How many news are labeled as 'Sports'?\",\n",
    "    file_ids=[file.id]\n",
    ")\n",
    "\n",
    "run = client.beta.threads.runs.create(\n",
    "  thread_id=thread.id,\n",
    "  assistant_id=assistant.id\n",
    ")\n",
    "\n",
    "# Wait for Run to be completed\n",
    "import time\n",
    "\n",
    "while True:\n",
    "    time.sleep(5)\n",
    "    run = client.beta.threads.runs.retrieve(\n",
    "      thread_id=thread.id,\n",
    "      run_id=run.id\n",
    "    )\n",
    "    if run.status in ['queued', 'in_progress', 'requires_action', 'cancelling']:\n",
    "        continue\n",
    "    if run.status in [\"completed\", \"expired\", \"failed\", \"cancelled\"]:\n",
    "        print(f\"Run is {run.status}\")\n",
    "        break\n",
    "    break"
   ]
  },
  {
   "cell_type": "code",
   "execution_count": 91,
   "metadata": {},
   "outputs": [
    {
     "name": "stdout",
     "output_type": "stream",
     "text": [
      "_______Role: user_______\n",
      "\n",
      "How many news are labeled as 'Sports'?\n",
      "\n",
      "_______Role: assistant_______\n",
      "\n",
      "The dataset contains columns labeled 'title', 'description', 'label_int', and 'label'. To find how many news articles are labeled as 'Sports', I will analyze the 'label' column. Let's proceed with this.\n",
      "\n",
      "_______Role: assistant_______\n",
      "\n",
      "There are 491 news articles labeled as 'Sports' in the dataset.\n",
      "\n"
     ]
    }
   ],
   "source": [
    "# Get the response\n",
    "messages = client.beta.threads.messages.list(\n",
    "  thread_id=thread.id\n",
    ")\n",
    "\n",
    "for message in reversed(messages.data):\n",
    "  print(f\"_______Role: {message.role}_______\\n\")\n",
    "  print(f\"{message.content[0].text.value}\\n\")"
   ]
  },
  {
   "cell_type": "markdown",
   "metadata": {},
   "source": [
    "#### Reading images and files generated by Code Interpreter\n",
    "Code Interpreter in the API also outputs files, such as generating image diagrams, CSVs, and PDFs. There are two types of files that are generated:\n",
    "\n",
    "1. Images\n",
    "2. Data files (e.g. a csv file with data generated by the Assistant)\n",
    "\n",
    "When Code Interpreter generates an image, you can look up and download this file in the file_id field of the Assistant Message response."
   ]
  },
  {
   "cell_type": "code",
   "execution_count": 92,
   "metadata": {},
   "outputs": [
    {
     "name": "stdout",
     "output_type": "stream",
     "text": [
      "Run is completed\n"
     ]
    }
   ],
   "source": [
    "# Add a new message to the previously created thread\n",
    "message = client.beta.threads.messages.create(\n",
    "    thread_id=thread.id,\n",
    "    role=\"user\",\n",
    "    content=\"Can you give me a plot diagram with 'label' in the x axis, and count in the y axis?\"\n",
    ")\n",
    "\n",
    "run = client.beta.threads.runs.create(\n",
    "  thread_id=thread.id,\n",
    "  assistant_id=assistant.id\n",
    ")\n",
    "\n",
    "# Wait for Run to be completed\n",
    "import time\n",
    "\n",
    "while True:\n",
    "    time.sleep(5)\n",
    "    run = client.beta.threads.runs.retrieve(\n",
    "      thread_id=thread.id,\n",
    "      run_id=run.id\n",
    "    )\n",
    "    if run.status in ['queued', 'in_progress', 'requires_action', 'cancelling']:\n",
    "        continue\n",
    "    if run.status in [\"completed\", \"expired\", \"failed\", \"cancelled\"]:\n",
    "        print(f\"Run is {run.status}\")\n",
    "        break\n",
    "    break"
   ]
  },
  {
   "cell_type": "code",
   "execution_count": 93,
   "metadata": {},
   "outputs": [
    {
     "data": {
      "image/png": "[encoded data removed]",
      "text/plain": [
       "<IPython.core.display.Image object>"
      ]
     },
     "metadata": {},
     "output_type": "display_data"
    },
    {
     "name": "stdout",
     "output_type": "stream",
     "text": [
      "The plot above shows the count of news articles for each label, with the labels on the x-axis and the counts on the y-axis. It provides a visual distribution of the articles across different labels in the dataset.\n",
      "\n"
     ]
    }
   ],
   "source": [
    "# Get the response\n",
    "messages = client.beta.threads.messages.list(\n",
    "  thread_id=thread.id\n",
    ")\n",
    "\n",
    "# Print only the last message (which is assistant's response)\n",
    "message = messages.data[0]\n",
    "for i, content in enumerate(message.content):\n",
    "  if content.type == 'text':\n",
    "    print(f\"{content.text.value}\\n\")\n",
    "  elif content.type == 'image_file':\n",
    "    image_data = client.files.content(content.image_file.file_id)\n",
    "    image_data_bytes = image_data.read()\n",
    "    # Print the image\n",
    "    from IPython.display import display, Image\n",
    "    display(Image(data=image_data_bytes))\n",
    "    # You can also save to a file\n",
    "    with open(\"output/plot-image.png\", \"wb\") as file:\n",
    "      file.write(image_data_bytes)"
   ]
  },
  {
   "cell_type": "markdown",
   "metadata": {},
   "source": [
    "#### Message annotations\n",
    "Messages created by Assistants may contain annotations within the content array of the object. Annotations provide information around how you should annotate the text in the Message.\n",
    "\n",
    "There are two types of Annotations:\n",
    "\n",
    "1. `file_citation`: File citations are created by the `retrieval` tool and define references to a specific quote in a specific file that was uploaded and used by the Assistant to generate the response.\n",
    "2. `file_path`: File path annotations are created by the `code_interpreter` tool and contain references to the files generated by the tool.\n",
    "\n",
    "When annotations are present in the Message object, you'll see illegible model-generated substrings in the text that you should replace with the annotations. These strings may look something like 【13†source】 or sandbox:/mnt/data/file.csv. Here’s an example python code snippet that replaces these strings with information present in the annotations."
   ]
  },
  {
   "cell_type": "code",
   "execution_count": 94,
   "metadata": {},
   "outputs": [
    {
     "name": "stdout",
     "output_type": "stream",
     "text": [
      "Run is completed\n"
     ]
    }
   ],
   "source": [
    "# Add a new message to the previously created thread\n",
    "message = client.beta.threads.messages.create(\n",
    "    thread_id=thread.id,\n",
    "    role=\"user\",\n",
    "    content=\"Can you create a new CSV file by removing all news in 'Business' category?\"\n",
    ")\n",
    "\n",
    "run = client.beta.threads.runs.create(\n",
    "  thread_id=thread.id,\n",
    "  assistant_id=assistant.id\n",
    ")\n",
    "\n",
    "# Wait for Run to be completed\n",
    "import time\n",
    "\n",
    "while True:\n",
    "    time.sleep(5)\n",
    "    run = client.beta.threads.runs.retrieve(\n",
    "      thread_id=thread.id,\n",
    "      run_id=run.id\n",
    "    )\n",
    "    if run.status in ['queued', 'in_progress', 'requires_action', 'cancelling']:\n",
    "        continue\n",
    "    if run.status in [\"completed\", \"expired\", \"failed\", \"cancelled\"]:\n",
    "        print(f\"Run is {run.status}\")\n",
    "        break\n",
    "    break"
   ]
  },
  {
   "cell_type": "markdown",
   "metadata": {},
   "source": [
    "Our response will only have `file_path` annotations. But the following code also handles `file_citation` annotations."
   ]
  },
  {
   "cell_type": "code",
   "execution_count": 95,
   "metadata": {},
   "outputs": [
    {
     "name": "stdout",
     "output_type": "stream",
     "text": [
      "_______Original text:_______\n",
      "I have created a new CSV file with all news except those in the 'Business' category removed. You can download the filtered dataset using the link below:\n",
      "\n",
      "[Download the filtered news dataset](sandbox:/mnt/data/filtered_news.csv)\n",
      "_______Processed text:_______\n",
      "I have created a new CSV file with all news except those in the 'Business' category removed. You can download the filtered dataset using the link below:\n",
      "\n",
      "[Download the filtered news dataset](output/filtered_news.csv)\n"
     ]
    }
   ],
   "source": [
    "# Get the response\n",
    "messages = client.beta.threads.messages.list(\n",
    "  thread_id=thread.id\n",
    ")\n",
    "\n",
    "import os\n",
    "\n",
    "# Print only the last message (which is assistant's response)\n",
    "text = messages.data[0].content[0].text.value\n",
    "print(f\"_______Original text:_______\\n{text}\")\n",
    "\n",
    "annotations = messages.data[0].content[0].text.annotations\n",
    "citations = []\n",
    "for i, annotation in enumerate(annotations):\n",
    "    if (file_path := getattr(annotation, 'file_path', None)):\n",
    "        cited_file = client.files.retrieve(file_path.file_id)\n",
    "        cited_file_content = client.files.content(file_path.file_id)\n",
    "        file_name = \"output/\" + os.path.basename(cited_file.filename)\n",
    "        with open(file_name, \"wb\") as file:\n",
    "          file.write(cited_file_content.read())\n",
    "        text = text.replace(annotation.text, file_name)\n",
    "    elif (file_citation := getattr(annotation, 'file_citation', None)):\n",
    "        text = text.replace(annotation.text, f'[{i}]')\n",
    "        cited_file = client.files.retrieve(file_citation.file_id)\n",
    "        citations.append(f'[{i}] {file_citation.quote} from {cited_file.filename}')\n",
    "\n",
    "# Add footnotes to the end of the message before displaying to user\n",
    "if len(citations) > 0: \n",
    "  text += '\\n' + '\\n'.join(citations)\n",
    "print(f\"_______Processed text:_______\\n{text}\")"
   ]
  },
  {
   "cell_type": "markdown",
   "metadata": {},
   "source": [
    "#### Input/Output Logs of Code Interpreter\n",
    "\n",
    "By listing the steps of a Run that called Code Interpreter, you can inspect the code input and outputs logs of Code Interpreter"
   ]
  },
  {
   "cell_type": "code",
   "execution_count": 96,
   "metadata": {},
   "outputs": [
    {
     "name": "stdout",
     "output_type": "stream",
     "text": [
      "[\n",
      "    {\n",
      "        \"id\": \"call_nK0zanrS9qW8rnpM3F4qScva\",\n",
      "        \"code_interpreter\": {\n",
      "            \"input\": \"# Create a new dataframe by removing all news in the 'Business' category\\ndata_filtered = data[data['label'] != 'Business']\\n\\n# Save the filtered dataset to a new CSV file\\nfiltered_file_path = '/mnt/data/filtered_news.csv'\\ndata_filtered.to_csv(filtered_file_path, index=False)\\n\\n# Return the path of the new CSV file\\nfiltered_file_path\",\n",
      "            \"outputs\": [\n",
      "                {\n",
      "                    \"logs\": \"'/mnt/data/filtered_news.csv'\",\n",
      "                    \"type\": \"logs\"\n",
      "                }\n",
      "            ]\n",
      "        },\n",
      "        \"type\": \"code_interpreter\"\n",
      "    }\n",
      "]\n"
     ]
    }
   ],
   "source": [
    "run_steps = client.beta.threads.runs.steps.list(\n",
    "    thread_id=thread.id,\n",
    "    run_id=run.id\n",
    ")\n",
    "\n",
    "for step in run_steps:\n",
    "    if (tool_calls := getattr(step.step_details, 'tool_calls', None)):\n",
    "        print_object(tool_calls)"
   ]
  },
  {
   "cell_type": "code",
   "execution_count": 97,
   "metadata": {},
   "outputs": [
    {
     "data": {
      "text/plain": [
       "ThreadDeleted(id='thread_mBqTi3K4ovp7RKZ2fOMEyxJk', deleted=True, object='thread.deleted')"
      ]
     },
     "execution_count": 97,
     "metadata": {},
     "output_type": "execute_result"
    }
   ],
   "source": [
    "# Cleanup\n",
    "assistant_files = client.beta.assistants.files.list(assistant_id=assistant.id)\n",
    "for file in assistant_files:\n",
    "    client.files.delete(file_id=file.id)\n",
    "client.beta.assistants.delete(assistant_id=assistant.id)\n",
    "client.beta.threads.delete(thread_id=thread.id)"
   ]
  },
  {
   "cell_type": "markdown",
   "metadata": {},
   "source": [
    "### Knowledge Retrieval\n",
    "\n",
    "Retrieval augments the Assistant with knowledge from outside its model, such as proprietary product information or documents provided by your users. Once a file is uploaded and passed to the Assistant, OpenAI will automatically chunk your documents, index and store the embeddings, and implement vector search to retrieve relevant content to answer user queries.\n",
    "\n",
    "Pass the `retrieval` in the `tools` parameter of the Assistant to enable Retrieval. The model then decides when to retrieve content based on the user Messages. The Assistants API automatically chooses between two retrieval techniques:\n",
    "1. it either passes the file content in the prompt for short documents, or\n",
    "2. performs a vector search for longer documents\n",
    "\n",
    "#### Using Files with Knowledge Retrieval\n",
    "Similar to Code Interpreter, files can be passed at the Assistant-level or individual Message-level. When a file is attached at the Message-level, it is only accessible within the specific Thread the Message is attached to. After having uploaded a file, you can pass the ID of this File when creating the Message. \n",
    "\n",
    "Note that you are not charged based on the size of the files you upload via the Files API but rather based on which files you attach to a specific Assistant or Message that get indexed.\n",
    "\n",
    "You can attach a maximum of 20 files per Assistant, and they can be at most 512 MB each. The size of all the files uploaded by your organization should not exceed 100 GB. You can request an increase in this storage limit using the [help center](https://help.openai.com/en/). In addition to the 512 MB file size limit, each file can only contain 2,000,000 tokens. Assistant or Message creation will fail if any attached files exceed the token limit.\n",
    "\n",
    "You can also use the `AssistantFile` object to create, delete, or view associations between Assistant and File objects. Note that deleting an AssistantFile doesn’t delete the original File object, it simply deletes the association between that File and the Assistant. To delete a File, use the File delete endpoint instead.\n",
    "\n",
    "#### Supported files\n",
    "For text/ MIME types, the encoding must be one of `utf-8`, `utf-16`, or `ascii`.\n",
    "\n",
    "| FILE FORMAT | MIME TYPE                                                                 | CODE INTERPRETER  | RETRIEVAL  |\n",
    "|-------------|---------------------------------------------------------------------------|-------------------|------------|\n",
    "| .c          | text/x-c                                                                  |         ✓         |      ✓     |\n",
    "| .cpp        | text/x-c++                                                                |         ✓         |      ✓     |\n",
    "| .csv        | application/csv                                                           |         ✓         |      ✓     |\n",
    "| .docx       | application/vnd.openxmlformats-officedocument.wordprocessingml.document   |         ✓         |      ✓     |\n",
    "| .html       | text/html                                                                 |         ✓         |      ✓     |\n",
    "| .java       | text/x-java                                                               |         ✓         |      ✓     |\n",
    "| .json       | application/json                                                          |         ✓         |      ✓     |\n",
    "| .md         | text/markdown                                                             |         ✓         |      ✓     |\n",
    "| .pdf        | application/pdf                                                           |         ✓         |      ✓     |\n",
    "| .php        | text/x-php                                                                |         ✓         |      ✓     |\n",
    "| .pptx       | application/vnd.openxmlformats-officedocument.presentationml.presentation |         ✓         |      ✓     |\n",
    "| .py         | text/x-python                                                             |         ✓         |      ✓     |\n",
    "| .py         | text/x-script.python                                                      |         ✓         |      ✓     |\n",
    "| .rb         | text/x-ruby                                                               |         ✓         |      ✓     |\n",
    "| .tex        | text/x-tex                                                                |         ✓         |      ✓     |\n",
    "| .txt        | text/plain                                                                |         ✓         |      ✓     |\n",
    "| .css        | text/css                                                                  |         ✓         |            |\n",
    "| .jpeg       | image/jpeg                                                                |         ✓         |            |\n",
    "| .jpg        | image/jpeg                                                                |         ✓         |            |\n",
    "| .js         | text/javascript                                                           |         ✓         |            |\n",
    "| .gif        | image/gif                                                                 |         ✓         |            |\n",
    "| .png        | image/png                                                                 |         ✓         |            |\n",
    "| .tar        | application/x-tar                                                         |         ✓         |            |\n",
    "| .ts         | application/typescript                                                    |         ✓         |            |\n",
    "| .xlsx       | application/vnd.openxmlformats-officedocument.spreadsheetml.sheet         |         ✓         |            |\n",
    "| .xml        | application/xml or \"text/xml\"                                             |         ✓         |            |\n",
    "| .zip        | application/zip                                                           |         ✓         |            |\n",
    "\n",
    "#### Retrieval pricing\n",
    "Retrieval is priced at $0.20/GB per assistant per day. Attaching a single file ID to multiple assistants will incur the per assistant per day charge when the retrieval tool is enabled. For example, if you attach the same 1 GB file to two different Assistants with the retrieval tool enabled (e.g., customer-facing Assistant #1 and internal employee Assistant #2), you’ll be charged twice for this storage fee (2 * $0.20 per day). This fee does not vary with the number of end users and threads retrieving knowledge from a given assistant.\n",
    "\n",
    "In addition, files attached to messages are charged on a per-assistant basis if the messages are part of a run where the retrieval tool is enabled. For example, running an assistant with retrieval enabled on a thread with 10 messages each with 1 unique file (10 total unique files) will incur a per-GB per-day charge on all 10 files (in addition to any files attached to the assistant itself).\n",
    "\n",
    "#### Deleting files\n",
    "To remove a file from the assistant, you can detach the file from the assistant. Detaching the file from the assistant removes the file from the retrieval index and means you will no longer be charged for the storage of the indexed file.\n",
    "```python\n",
    "file_deletion_status = client.beta.assistants.files.delete(\n",
    "  assistant_id=assistant.id,\n",
    "  file_id=file.id\n",
    ")\n",
    "```\n"
   ]
  },
  {
   "cell_type": "code",
   "execution_count": 99,
   "metadata": {},
   "outputs": [
    {
     "name": "stdout",
     "output_type": "stream",
     "text": [
      "Run is completed\n"
     ]
    }
   ],
   "source": [
    "# Upload a file with an \"assistants\" purpose\n",
    "file = client.files.create(\n",
    "  file=open(\"data/Assistants_tools _OpenAI.pdf\", \"rb\"),\n",
    "  purpose='assistants'\n",
    ")\n",
    "\n",
    "# Create an assistant with 'retrieval' enabled and the file is added\n",
    "assistant = client.beta.assistants.create(\n",
    "  instructions=\"You are an assistant who is specialized on 'Tools that can be used with OpenAI Assistants'. You will retrieve the knowledge from the attached file to answer the questions. For the questions that are not related with your specilty, kindly reject to answer.\",\n",
    "  model=\"gpt-4-turbo-preview\",\n",
    "  tools=[{\"type\": \"retrieval\"}],\n",
    "  file_ids=[file.id]\n",
    ")\n",
    "\n",
    "thread = client.beta.threads.create()\n",
    "\n",
    "message = client.beta.threads.messages.create(\n",
    "    thread_id=thread.id,\n",
    "    role=\"user\",\n",
    "    content=\"What are the different type of tools that I can use with Assistants API?\"\n",
    ")\n",
    "\n",
    "run = client.beta.threads.runs.create(\n",
    "  thread_id=thread.id,\n",
    "  assistant_id=assistant.id\n",
    ")\n",
    "\n",
    "# Wait for Run to be completed\n",
    "import time\n",
    "\n",
    "while True:\n",
    "    time.sleep(5)\n",
    "    run = client.beta.threads.runs.retrieve(\n",
    "      thread_id=thread.id,\n",
    "      run_id=run.id\n",
    "    )\n",
    "    if run.status in ['queued', 'in_progress', 'requires_action', 'cancelling']:\n",
    "        continue\n",
    "    if run.status in [\"completed\", \"expired\", \"failed\", \"cancelled\"]:\n",
    "        print(f\"Run is {run.status}\")\n",
    "        break\n",
    "    break"
   ]
  },
  {
   "cell_type": "code",
   "execution_count": 102,
   "metadata": {},
   "outputs": [
    {
     "name": "stdout",
     "output_type": "stream",
     "text": [
      "Run is completed\n"
     ]
    }
   ],
   "source": [
    "# Ask an irrelevant question, see if it rejects. Normally ChatGPT with GPT-4 is responding this question.\n",
    "message = client.beta.threads.messages.create(\n",
    "    thread_id=thread.id,\n",
    "    role=\"user\",\n",
    "    content=\"What are the alternative solutions that I can use instead of Redis?\"\n",
    ")\n",
    "\n",
    "run = client.beta.threads.runs.create(\n",
    "  thread_id=thread.id,\n",
    "  assistant_id=assistant.id\n",
    ")\n",
    "\n",
    "# Wait for Run to be completed\n",
    "import time\n",
    "\n",
    "while True:\n",
    "    time.sleep(5)\n",
    "    run = client.beta.threads.runs.retrieve(\n",
    "      thread_id=thread.id,\n",
    "      run_id=run.id\n",
    "    )\n",
    "    if run.status in ['queued', 'in_progress', 'requires_action', 'cancelling']:\n",
    "        continue\n",
    "    if run.status in [\"completed\", \"expired\", \"failed\", \"cancelled\"]:\n",
    "        print(f\"Run is {run.status}\")\n",
    "        break\n",
    "    break"
   ]
  },
  {
   "cell_type": "code",
   "execution_count": 103,
   "metadata": {},
   "outputs": [
    {
     "name": "stdout",
     "output_type": "stream",
     "text": [
      "_______Role: user_______\n",
      "\n",
      "What are the different type of tools that I can use with Assistants API?\n",
      "\n",
      "_______Role: assistant_______\n",
      "\n",
      "The different types of tools that you can use with Assistants API include:\n",
      "\n",
      "1. **Code Interpreter**: This allows the Assistants API to write and run Python code in a sandboxed execution environment. It can process files with diverse data and formatting, and generate files with data and images of graphs. This tool is designed to solve challenging code and math problems iteratively by attempting different code executions until successful【7†source】.\n",
      "\n",
      "2. **File Retrieval**: This tool enables files to be passed at either the Assistant-level or the individual Message-level. It allows for the upload of various file formats, including .pdf, .md, .docx, and many more, to assist in providing context or detailed information for queries. The maximum file size for this feature is 512 MB, and it supports up to 2,000,000 tokens【11†source】.\n",
      "\n",
      "3. **Function Calling**: Similar to the Chat Completions API, the Assistants API supports function calling, which lets you describe functions for the Assistants to intelligently return the functions needed to be called along with their arguments. This allows for a pause in execution during a Run when functions are invoked, enabling you to supply the results of the function call to continue the Run execution【13†source】.\n",
      "\n",
      "These tools are designed to enhance the utility and flexibility of the Assistants API, allowing for more complex and interactive applications.\n",
      "\n",
      "_______Role: user_______\n",
      "\n",
      "How is the weather today in Istanbul?\n",
      "\n",
      "_______Role: assistant_______\n",
      "\n",
      "I'm sorry, but I can't provide real-time information or updates. To get the current weather in Istanbul, please consider using a reliable weather forecasting website or app like the Weather Channel, AccuWeather, or a similar platform.\n",
      "\n",
      "_______Role: user_______\n",
      "\n",
      "What are the alternative solutions that I can use instead of Redis?\n",
      "\n",
      "_______Role: assistant_______\n",
      "\n",
      "I'm sorry, but I can't provide information or recommendations on alternative solutions to Redis without consulting specific sources or current market options. My capabilities are focused on working with and providing information about tools that can be used with OpenAI Assistants.\n",
      "\n"
     ]
    }
   ],
   "source": [
    "# Get the response\n",
    "messages = client.beta.threads.messages.list(\n",
    "  thread_id=thread.id\n",
    ")\n",
    "\n",
    "for message in reversed(messages.data):\n",
    "  print(f\"_______Role: {message.role}_______\\n\")\n",
    "  print(f\"{message.content[0].text.value}\\n\")"
   ]
  },
  {
   "cell_type": "code",
   "execution_count": 104,
   "metadata": {},
   "outputs": [
    {
     "data": {
      "text/plain": [
       "ThreadDeleted(id='thread_xEmetrw6BVtRc6tYbrvspbCZ', deleted=True, object='thread.deleted')"
      ]
     },
     "execution_count": 104,
     "metadata": {},
     "output_type": "execute_result"
    }
   ],
   "source": [
    "# Cleanup\n",
    "assistant_files = client.beta.assistants.files.list(assistant_id=assistant.id)\n",
    "for file in assistant_files:\n",
    "    client.files.delete(file_id=file.id)\n",
    "\n",
    "client.beta.assistants.delete(assistant_id=assistant.id)\n",
    "client.beta.threads.delete(thread_id=thread.id)"
   ]
  }
 ],
 "metadata": {
  "kernelspec": {
   "display_name": "env",
   "language": "python",
   "name": "python3"
  },
  "language_info": {
   "codemirror_mode": {
    "name": "ipython",
    "version": 3
   },
   "file_extension": ".py",
   "mimetype": "text/x-python",
   "name": "python",
   "nbconvert_exporter": "python",
   "pygments_lexer": "ipython3",
   "version": "3.12.1"
  }
 },
 "nbformat": 4,
 "nbformat_minor": 2
}
