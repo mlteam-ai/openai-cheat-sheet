{
 "cells": [
  {
   "cell_type": "markdown",
   "metadata": {},
   "source": [
    "# Assistants\n",
    "\n",
    "## Introduction\n",
    "\n",
    "The Assistants API allows you to build AI assistants within your own applications. An Assistant has instructions and can leverage models, tools, and knowledge to respond to user queries. The Assistants API currently supports three types of tools: Code Interpreter, Retrieval, and Function calling.\n",
    "\n",
    "1. Assistants can call OpenAI’s models with specific instructions to tune their personality and capabilities.\n",
    "2. Assistants can access multiple tools in parallel. These can be both OpenAI-hosted tools — like Code interpreter and Knowledge retrieval — or tools you build / host (via Function calling).\n",
    "3. Assistants can access persistent Threads. Threads simplify AI application development by storing message history and truncating it when the conversation gets too long for the model’s context length. You create a Thread once, and simply append Messages to it as your users reply.\n",
    "4. Assistants can access Files in several formats — either as part of their creation or as part of Threads between Assistants and users. When using tools, Assistants can also create files (e.g., images, spreadsheets, etc) and cite files they reference in the Messages they create.\n",
    "\n",
    "You can explore the capabilities of the Assistants API using the [Assistants playground](https://platform.openai.com/playground?mode=assistant) or by building a step-by-step integration outlined in this guide. At a high level, a typical integration of the Assistants API has the following flow:\n",
    "\n",
    "1. Create an Assistant in the API by defining its custom instructions and picking a model. If helpful, enable tools like Code Interpreter, Retrieval, and Function calling.\n",
    "2. Create a Thread when a user starts a conversation.\n",
    "3. Add Messages to the Thread as the user ask questions.\n",
    "4. Run the Assistant on the Thread to trigger responses. This automatically calls the relevant tools.\n",
    "\n",
    "The Assistants API is in **beta**. Calls to the Assistants API require that you pass a beta HTTP header. This is handled automatically if you’re using OpenAI’s official Python or Node.js SDKs.\n",
    "```htm\n",
    "OpenAI-Beta: assistants=v1\n",
    "```\n"
   ]
  },
  {
   "cell_type": "markdown",
   "metadata": {},
   "source": [
    "## How Assistants Work\n",
    "### Objects\n",
    "![Objects](https://cdn.openai.com/API/docs/images/diagram-assistant.webp)\n",
    "| OBJECT   | WHAT IT REPRESENTS |\n",
    "|----------|--------------------|\n",
    "| Assistant | Purpose-built AI that uses OpenAI’s models and calls tools |\n",
    "| Thread   | A conversation session between an Assistant and a user. Threads store Messages and automatically handle truncation to fit content into a model’s context. |\n",
    "| Message  | A message created by an Assistant or a user. Messages can include text, images, and other files. Messages stored as a list on the Thread. |\n",
    "| Run      | An invocation of an Assistant on a Thread. The Assistant uses its configuration and the Thread’s Messages to perform tasks by calling models and tools. As part of a Run, the Assistant appends Messages to the Thread. |\n",
    "| Run Step | A detailed list of steps the Assistant took as part of a Run. An Assistant can call tools or create Messages during its run. Examining Run Steps allows you to introspect how the Assistant is getting to its final results. |\n"
   ]
  },
  {
   "cell_type": "markdown",
   "metadata": {},
   "source": [
    "### Step 1: Create an Assistant\n",
    "An Assistant represents an entity that can be configured to respond to users’ Messages using several parameters like:\n",
    "\n",
    "* **Instructions**: Use the instructions parameter to guide the personality of the Assistant and define it’s goals. Instructions are similar to system messages in the Chat Completions API.\n",
    "* **Model**: you can specify any GPT-3.5 or GPT-4 models. The Retrieval tool requires at least `gpt-3.5-turbo-1106` (newer versions are supported) or `gpt-4-turbo-preview` models.\n",
    "    * Note: Support for fine-tuned models in the Assistants API is coming soon.\n",
    "* **Tools**: Use the tools parameter to give the Assistant access to up to 128 tools. You can give it access to OpenAI-hosted tools like `code_interpreter` and `retrieval`, or call a third-party tools via a `function` calling.\n",
    "* **File_ids**: Use the file_ids parameter to give the tools like code_interpreter and retrieval access to files. Files are uploaded using the [File upload endpoint](https://platform.openai.com/docs/api-reference/files/create) and must have the `purpose` set to `assistants` to be used with this API.\n",
    "\n",
    "In the following example, we're creating an Assistant that is a personal math tutor, with the Code Interpreter tool enabled.\n"
   ]
  },
  {
   "cell_type": "code",
   "execution_count": 2,
   "metadata": {},
   "outputs": [],
   "source": [
    "from mlteam_utils import print_object\n",
    "\n",
    "# In this example, we're creating an Assistant that is a personal math tutor, with the Code Interpreter tool enabled.\n",
    "from openai import OpenAI\n",
    "client = OpenAI()\n",
    "\n",
    "assistant = client.beta.assistants.create(\n",
    "    name=\"Math Tutor\",\n",
    "    instructions=\"You are a personal math tutor. Write and run code to answer math questions.\",\n",
    "    tools=[{\"type\": \"code_interpreter\"}],\n",
    "    model=\"gpt-4-turbo-preview\"\n",
    ")"
   ]
  },
  {
   "cell_type": "markdown",
   "metadata": {},
   "source": [
    "### Step 2: Create a Thread\n",
    "A Thread represents a conversation. We recommend [creating one Thread](https://platform.openai.com/docs/api-reference/threads/createThread) per user as soon as the user initiates the conversation. Pass any user-specific context and files in this thread by [creating Messages](https://platform.openai.com/docs/api-reference/messages/createMessage).\n",
    "\n",
    "Threads don’t have a size limit. You can add as many Messages as you want to a Thread. The Assistant will ensure that requests to the model fit within the maximum context window, using relevant optimization techniques such as truncation which we have tested extensively with ChatGPT. When you use the Assistants API, you delegate control over how many input tokens are passed to the model for any given Run, this means you have less control over the cost of running your Assistant in some cases but do not have to deal with the complexity of managing the context window yourself.\n",
    "\n",
    "Organizations that have enabled the [Threads page](https://platform.openai.com/threads) can view Threads created through the Assistants API and Assistants playground. Threads page permissions can be managed in [Organization settings](https://platform.openai.com/account/organization)."
   ]
  },
  {
   "cell_type": "code",
   "execution_count": 3,
   "metadata": {},
   "outputs": [],
   "source": [
    "thread = client.beta.threads.create()"
   ]
  },
  {
   "cell_type": "markdown",
   "metadata": {},
   "source": [
    "### Step 3: Add a Message to a Thread\n",
    "A Message contains text, and optionally any files that you allow the user to upload. Messages need to be added to a specific Thread. Adding images via message objects like in Chat Completions using GPT-4 with Vision is not supported today, but we plan to add support for them in the coming months. You can still upload images and have them processes via retrieval."
   ]
  },
  {
   "cell_type": "code",
   "execution_count": 4,
   "metadata": {},
   "outputs": [
    {
     "name": "stdout",
     "output_type": "stream",
     "text": [
      "[\n",
      "    {\n",
      "        \"id\": \"msg_LSe4ZhGdwd5aXwKilhAjDef2\",\n",
      "        \"assistant_id\": null,\n",
      "        \"content\": [\n",
      "            {\n",
      "                \"text\": {\n",
      "                    \"annotations\": [],\n",
      "                    \"value\": \"I need to solve the equation `3x + 11 = 14`. Can you help me?\"\n",
      "                },\n",
      "                \"type\": \"text\"\n",
      "            }\n",
      "        ],\n",
      "        \"created_at\": 1707206041,\n",
      "        \"file_ids\": [],\n",
      "        \"metadata\": {},\n",
      "        \"object\": \"thread.message\",\n",
      "        \"role\": \"user\",\n",
      "        \"run_id\": null,\n",
      "        \"thread_id\": \"thread_XPK509FQmEiUVP41k0ADGgN1\"\n",
      "    }\n",
      "]\n"
     ]
    }
   ],
   "source": [
    "message = client.beta.threads.messages.create(\n",
    "    thread_id=thread.id,\n",
    "    role=\"user\",\n",
    "    content=\"I need to solve the equation `3x + 11 = 14`. Can you help me?\"\n",
    ")\n",
    "\n",
    "# Now if you list the Messages in a Thread, you will see that this message has been appended.\n",
    "thread_messages = client.beta.threads.messages.list(thread.id)\n",
    "print_object(thread_messages.data)"
   ]
  },
  {
   "cell_type": "markdown",
   "metadata": {},
   "source": [
    "### Step 4: Run the Assistant\n",
    "For the Assistant to respond to the user message, you need to create a Run. This makes the Assistant read the Thread and decide whether to call tools (if they are enabled) or simply use the model to best answer the query. As the run progresses, the assistant appends Messages to the thread with the `role=\"assistant\"`. The Assistant will also automatically decide what previous Messages to include in the context window for the model. This has both an impact on pricing as well as model performance. The current approach has been optimized based on what we learned building ChatGPT and will likely evolve over time.\n",
    "\n",
    "You can optionally pass new instructions to the Assistant while creating the Run but note that these instructions override the default instructions of the Assistant.\n",
    "\n",
    "By default, a Run will use the model and tools configuration specified in Assistant object, but you can override most of these when creating the Run for added flexibility.\n",
    "\n",
    "> ***Note***: file_ids associated with the Assistant cannot be overridden during Run creation. You must use the [modify Assistant](https://platform.openai.com/docs/api-reference/assistants/modifyAssistant) endpoint to do this."
   ]
  },
  {
   "cell_type": "code",
   "execution_count": 5,
   "metadata": {},
   "outputs": [],
   "source": [
    "# Trigger the run\n",
    "run = client.beta.threads.runs.create(\n",
    "  thread_id=thread.id,\n",
    "  assistant_id=assistant.id,\n",
    "  instructions=\"Please address the user as Jane Doe. The user has a premium account.\"\n",
    ")"
   ]
  },
  {
   "cell_type": "markdown",
   "metadata": {},
   "source": [
    "### Step5: Check the Run Status\n",
    "Run objects can have multiple statuses.\n",
    "\n",
    "![Run lifecycle](https://cdn.openai.com/API/docs/images/diagram-1.png)\n",
    "\n",
    "| STATUS          | DEFINITION |\n",
    "|-----------------|------------|\n",
    "| queued          | When Runs are first created or when you complete the required_action, they are moved to a queued status. They should almost immediately move to in_progress. |\n",
    "| in_progress     | While in_progress, the Assistant uses the model and tools to perform steps. You can view progress being made by the Run by examining the Run Steps. |\n",
    "| completed       | The Run successfully completed! You can now view all Messages the Assistant added to the Thread, and all the steps the Run took. You can also continue the conversation by adding more user Messages to the Thread and creating another Run. |\n",
    "| requires_action | When using the Function calling tool, the Run will move to a required_action state once the model determines the names and arguments of the functions to be called. You must then run those functions and submit the outputs before the run proceeds. If the outputs are not provided before the expires_at timestamp passes (roughly 10 mins past creation), the run will move to an expired status. |\n",
    "| expired         | This happens when the function calling outputs were not submitted before expires_at and the run expires. Additionally, if the runs take too long to execute and go beyond the time stated in expires_at, our systems will expire the run. |\n",
    "| cancelling      | You can attempt to cancel an in_progress run using the Cancel Run endpoint. Once the attempt to cancel succeeds, status of the Run moves to cancelled. Cancellation is attempted but not guaranteed. |\n",
    "| cancelled       | Run was successfully cancelled. |\n",
    "| failed          | You can view the reason for the failure by looking at the last_error object in the Run. The timestamp for the failure will be recorded under failed_at. |\n",
    "\n",
    "When a Run is in_progress and not in a terminal state, the Thread is locked. This means that:\n",
    "* New Messages cannot be added to the Thread.\n",
    "* New Runs cannot be created on the Thread."
   ]
  },
  {
   "cell_type": "code",
   "execution_count": 6,
   "metadata": {},
   "outputs": [
    {
     "name": "stdout",
     "output_type": "stream",
     "text": [
      "Run is completed\n",
      "{\n",
      "    \"id\": \"run_zjNVAGjiJF0L3BvDidCfu203\",\n",
      "    \"assistant_id\": \"asst_a1B4jV5omCGjezTJFpukcAw6\",\n",
      "    \"cancelled_at\": null,\n",
      "    \"completed_at\": 1707206069,\n",
      "    \"created_at\": 1707206050,\n",
      "    \"expires_at\": null,\n",
      "    \"failed_at\": null,\n",
      "    \"file_ids\": [],\n",
      "    \"instructions\": \"Please address the user as Jane Doe. The user has a premium account.\",\n",
      "    \"last_error\": null,\n",
      "    \"metadata\": {},\n",
      "    \"model\": \"gpt-4-turbo-preview\",\n",
      "    \"object\": \"thread.run\",\n",
      "    \"required_action\": null,\n",
      "    \"started_at\": 1707206050,\n",
      "    \"status\": \"completed\",\n",
      "    \"thread_id\": \"thread_XPK509FQmEiUVP41k0ADGgN1\",\n",
      "    \"tools\": [\n",
      "        {\n",
      "            \"type\": \"code_interpreter\"\n",
      "        }\n",
      "    ],\n",
      "    \"usage\": {\n",
      "        \"completion_tokens\": 177,\n",
      "        \"prompt_tokens\": 661,\n",
      "        \"total_tokens\": 838\n",
      "    }\n",
      "}\n"
     ]
    }
   ],
   "source": [
    "# By default, the run goes into the queued state. You can periodically retrieve the Run to check on its status to see if it has moved to completed.\n",
    "import time\n",
    "\n",
    "while True:\n",
    "    time.sleep(5)\n",
    "    run = client.beta.threads.runs.retrieve(\n",
    "      thread_id=thread.id,\n",
    "      run_id=run.id\n",
    "    )\n",
    "    if run.status in ['queued', 'in_progress', 'requires_action', 'cancelling']:\n",
    "        continue\n",
    "    if run.status in [\"completed\", \"expired\", \"failed\", \"cancelled\"]:\n",
    "        print(f\"Run is {run.status}\")\n",
    "        break\n",
    "    break\n",
    "print_object(run)"
   ]
  },
  {
   "cell_type": "markdown",
   "metadata": {},
   "source": [
    "### Step 6: Display the Assistant's Response\n",
    "Once the Run completes, you can list the Messages added to the Thread by the Assistant."
   ]
  },
  {
   "cell_type": "code",
   "execution_count": 7,
   "metadata": {},
   "outputs": [
    {
     "name": "stdout",
     "output_type": "stream",
     "text": [
      "[\n",
      "    {\n",
      "        \"id\": \"msg_jt5PQ3bD7wXXg0WIRte0uP9C\",\n",
      "        \"assistant_id\": \"asst_a1B4jV5omCGjezTJFpukcAw6\",\n",
      "        \"content\": [\n",
      "            {\n",
      "                \"text\": {\n",
      "                    \"annotations\": [],\n",
      "                    \"value\": \"The solution to the equation \\\\(3x + 11 = 14\\\\) is \\\\(x = 1\\\\). If you have any more questions or need further assistance, feel free to ask!\"\n",
      "                },\n",
      "                \"type\": \"text\"\n",
      "            }\n",
      "        ],\n",
      "        \"created_at\": 1707206067,\n",
      "        \"file_ids\": [],\n",
      "        \"metadata\": {},\n",
      "        \"object\": \"thread.message\",\n",
      "        \"role\": \"assistant\",\n",
      "        \"run_id\": \"run_zjNVAGjiJF0L3BvDidCfu203\",\n",
      "        \"thread_id\": \"thread_XPK509FQmEiUVP41k0ADGgN1\"\n",
      "    },\n",
      "    {\n",
      "        \"id\": \"msg_9p10DE5l40LvuAVGSAan1cjQ\",\n",
      "        \"assistant_id\": \"asst_a1B4jV5omCGjezTJFpukcAw6\",\n",
      "        \"content\": [\n",
      "            {\n",
      "                \"text\": {\n",
      "                    \"annotations\": [],\n",
      "                    \"value\": \"Sure, we can solve the equation \\\\(3x + 11 = 14\\\\) together. To find the value of \\\\(x\\\\), we will follow these steps:\\n\\n1. Subtract 11 from both sides to isolate the term with \\\\(x\\\\) on one side.\\n2. Divide by 3 to solve for \\\\(x\\\\).\\n\\nLet's do the calculation.\"\n",
      "                },\n",
      "                \"type\": \"text\"\n",
      "            }\n",
      "        ],\n",
      "        \"created_at\": 1707206051,\n",
      "        \"file_ids\": [],\n",
      "        \"metadata\": {},\n",
      "        \"object\": \"thread.message\",\n",
      "        \"role\": \"assistant\",\n",
      "        \"run_id\": \"run_zjNVAGjiJF0L3BvDidCfu203\",\n",
      "        \"thread_id\": \"thread_XPK509FQmEiUVP41k0ADGgN1\"\n",
      "    },\n",
      "    {\n",
      "        \"id\": \"msg_LSe4ZhGdwd5aXwKilhAjDef2\",\n",
      "        \"assistant_id\": null,\n",
      "        \"content\": [\n",
      "            {\n",
      "                \"text\": {\n",
      "                    \"annotations\": [],\n",
      "                    \"value\": \"I need to solve the equation `3x + 11 = 14`. Can you help me?\"\n",
      "                },\n",
      "                \"type\": \"text\"\n",
      "            }\n",
      "        ],\n",
      "        \"created_at\": 1707206041,\n",
      "        \"file_ids\": [],\n",
      "        \"metadata\": {},\n",
      "        \"object\": \"thread.message\",\n",
      "        \"role\": \"user\",\n",
      "        \"run_id\": null,\n",
      "        \"thread_id\": \"thread_XPK509FQmEiUVP41k0ADGgN1\"\n",
      "    }\n",
      "]\n"
     ]
    }
   ],
   "source": [
    "messages = client.beta.threads.messages.list(\n",
    "  thread_id=thread.id\n",
    ")\n",
    "\n",
    "#For you to better understand the data structure of the messages\n",
    "print_object(messages.data)"
   ]
  },
  {
   "cell_type": "code",
   "execution_count": 8,
   "metadata": {},
   "outputs": [
    {
     "name": "stdout",
     "output_type": "stream",
     "text": [
      "_______Role: user_______\n",
      "\n",
      "I need to solve the equation `3x + 11 = 14`. Can you help me?\n",
      "\n",
      "_______Role: assistant_______\n",
      "\n",
      "Sure, we can solve the equation \\(3x + 11 = 14\\) together. To find the value of \\(x\\), we will follow these steps:\n",
      "\n",
      "1. Subtract 11 from both sides to isolate the term with \\(x\\) on one side.\n",
      "2. Divide by 3 to solve for \\(x\\).\n",
      "\n",
      "Let's do the calculation.\n",
      "\n",
      "_______Role: assistant_______\n",
      "\n",
      "The solution to the equation \\(3x + 11 = 14\\) is \\(x = 1\\). If you have any more questions or need further assistance, feel free to ask!\n",
      "\n"
     ]
    }
   ],
   "source": [
    "# Finally display the messages to the user\n",
    "\n",
    "# messages.data list holds the last message at the index 0, so we reverse the list to see in chronological order.\n",
    "for message in reversed(messages.data):\n",
    "  print(f\"_______Role: {message['role']}_______\\n\")\n",
    "  # message.content is a list, but I only see 1 item in the list, anyhow used a loop.\n",
    "  for i, content in enumerate(message['content']):\n",
    "    print(f\"{content['text']['value']}\\n\")"
   ]
  },
  {
   "cell_type": "markdown",
   "metadata": {},
   "source": [
    "### Run Steps\n",
    "![Run steps](https://cdn.openai.com/API/docs/images/diagram-2.png)\n",
    "\n",
    "Run step statuses have the same meaning as Run statuses.\n",
    "\n",
    "Most of the interesting detail in the Run Step object lives in the step_details field. There can be two types of step details:\n",
    "1. `message_creation`: This Run Step is created when the Assistant creates a Message on the Thread.\n",
    "2. `tool_calls`: This Run Step is created when the Assistant calls a tool. Details around this are covered in the relevant sections of the Tools guide."
   ]
  },
  {
   "cell_type": "code",
   "execution_count": 9,
   "metadata": {},
   "outputs": [
    {
     "name": "stdout",
     "output_type": "stream",
     "text": [
      "message_creation: MessageCreation(message_id='msg_jt5PQ3bD7wXXg0WIRte0uP9C')\n",
      "tool_calls: [CodeToolCall(id='call_qe4hURDFkM4CCvihklIryawi', code_interpreter=CodeInterpreter(input=\"from sympy import symbols, Eq, solve\\n\\n# Define the variable\\nx = symbols('x')\\n\\n# Define the equation\\nequation = Eq(3*x + 11, 14)\\n\\n# Solve the equation\\nsolution = solve(equation, x)\\nsolution\", outputs=[CodeInterpreterOutputLogs(logs='[1]', type='logs')]), type='code_interpreter')]\n",
      "message_creation: MessageCreation(message_id='msg_9p10DE5l40LvuAVGSAan1cjQ')\n"
     ]
    }
   ],
   "source": [
    "run_steps = client.beta.threads.runs.steps.list(\n",
    "    thread_id=thread.id,\n",
    "    run_id=run.id\n",
    ")\n",
    "\n",
    "for step in run_steps:\n",
    "    print(f\"{step.step_details.type}: {getattr(step.step_details, step.step_details.type)}\")"
   ]
  },
  {
   "cell_type": "markdown",
   "metadata": {},
   "source": [
    "### Cleanup\n",
    "\n",
    "You can delete your assistant and/or threads. "
   ]
  },
  {
   "cell_type": "code",
   "execution_count": 10,
   "metadata": {},
   "outputs": [
    {
     "data": {
      "text/plain": [
       "ThreadDeleted(id='thread_XPK509FQmEiUVP41k0ADGgN1', deleted=True, object='thread.deleted')"
      ]
     },
     "execution_count": 10,
     "metadata": {},
     "output_type": "execute_result"
    }
   ],
   "source": [
    "# Delete the assistant\n",
    "client.beta.assistants.delete(assistant_id=assistant.id)\n",
    "\n",
    "# Delete the thread\n",
    "client.beta.threads.delete(thread_id=thread.id)"
   ]
  }
 ],
 "metadata": {
  "kernelspec": {
   "display_name": "env",
   "language": "python",
   "name": "python3"
  },
  "language_info": {
   "codemirror_mode": {
    "name": "ipython",
    "version": 3
   },
   "file_extension": ".py",
   "mimetype": "text/x-python",
   "name": "python",
   "nbconvert_exporter": "python",
   "pygments_lexer": "ipython3",
   "version": "3.12.1"
  }
 },
 "nbformat": 4,
 "nbformat_minor": 2
}
