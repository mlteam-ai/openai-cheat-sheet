{
 "cells": [
  {
   "cell_type": "markdown",
   "metadata": {},
   "source": [
    "# Moderation\n",
    "The [moderations](https://platform.openai.com/docs/api-reference/moderations) endpoint is a tool you can use to check whether content complies with OpenAI's usage policies. Developers can thus identify content that our usage policies prohibits and take action, for instance by filtering it. The models classifies the following categories:\n",
    "\n",
    "| CATEGORY               | DESCRIPTION |\n",
    "|------------------------|-------------|\n",
    "| hate                   | Content that expresses, incites, or promotes hate based on race, gender, ethnicity, religion, nationality, sexual orientation, disability status, or caste. Hateful content aimed at non-protected groups (e.g., chess players) is harassment. |\n",
    "| hate/threatening       | Hateful content that also includes violence or serious harm towards the targeted group based on race, gender, ethnicity, religion, nationality, sexual orientation, disability status, or caste. |\n",
    "| harassment             | Content that expresses, incites, or promotes harassing language towards any target. |\n",
    "| harassment/threatening | Harassment content that also includes violence or serious harm towards any target. |\n",
    "| self-harm              | Content that promotes, encourages, or depicts acts of self-harm, such as suicide, cutting, and eating disorders. |\n",
    "| self-harm/intent       | Content where the speaker expresses that they are engaging or intend to engage in acts of self-harm, such as suicide, cutting, and eating disorders. |\n",
    "| self-harm/instructions | Content that encourages performing acts of self-harm, such as suicide, cutting, and eating disorders, or that gives instructions or advice on how to commit such acts. |\n",
    "| sexual                 | Content meant to arouse sexual excitement, such as the description of sexual activity, or that promotes sexual services (excluding sex education and wellness). |\n",
    "| sexual/minors          | Sexual content that includes an individual who is under 18 years old. |\n",
    "| violence               | Content that depicts death, violence, or physical injury. |\n",
    "| violence/graphic       | Content that depicts death, violence, or physical injury in graphic detail. |\n",
    "\n",
    "The moderation endpoint is free to use when monitoring the inputs and outputs of OpenAI APIs. OpenAI currently disallows other use cases. Accuracy may be lower on longer pieces of text. For higher accuracy, try splitting long pieces of text into smaller chunks each less than 2,000 characters."
   ]
  },
  {
   "cell_type": "code",
   "execution_count": 5,
   "metadata": {},
   "outputs": [
    {
     "name": "stdout",
     "output_type": "stream",
     "text": [
      "{'categories': {'harassment': False, 'harassment_threatening': False, 'hate': False, 'hate_threatening': False, 'self_harm': False, 'self_harm_instructions': False, 'self_harm_intent': False, 'sexual': False, 'sexual_minors': False, 'violence': False, 'violence_graphic': False}, 'category_scores': {'harassment': 0.009401188232004642, 'harassment_threatening': 0.03180456534028053, 'hate': 0.002242478309199214, 'hate_threatening': 0.00029880646616220474, 'self_harm': 0.0024358148220926523, 'self_harm_instructions': 1.2412077012413647e-05, 'self_harm_intent': 0.004344025161117315, 'sexual': 0.0004166654252912849, 'sexual_minors': 2.777330109893228e-06, 'violence': 0.03307364135980606, 'violence_graphic': 0.0003956566215492785}, 'flagged': False}\n"
     ]
    }
   ],
   "source": [
    "# Soory to use some bad words and statements, it is just to showcase how moderations works\n",
    "\n",
    "from openai import OpenAI\n",
    "client = OpenAI()\n",
    "\n",
    "response = client.moderations.create(input=\"Hay ben sizin yapacağınız işe... Allah topunuzun belasını versin\")\n",
    "\n",
    "output = response.results[0]\n",
    "\n",
    "def to_dict(object): \n",
    "    if type(object) == list:\n",
    "         for i, item in enumerate(object):\n",
    "            object[i] = to_dict(item)\n",
    "    if type(object) == dict:\n",
    "        for key, value in object.items():\n",
    "            object[key] = to_dict(value)\n",
    "    if hasattr(object, \"__dict__\"): return to_dict(object.__dict__)\n",
    "    return object\n",
    "\n",
    "import json\n",
    "print(json.dumps(to_dict(output), indent=4))"
   ]
  }
 ],
 "metadata": {
  "kernelspec": {
   "display_name": "env",
   "language": "python",
   "name": "python3"
  },
  "language_info": {
   "codemirror_mode": {
    "name": "ipython",
    "version": 3
   },
   "file_extension": ".py",
   "mimetype": "text/x-python",
   "name": "python",
   "nbconvert_exporter": "python",
   "pygments_lexer": "ipython3",
   "version": "3.12.1"
  }
 },
 "nbformat": 4,
 "nbformat_minor": 2
}
